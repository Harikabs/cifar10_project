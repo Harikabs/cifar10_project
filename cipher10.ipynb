{
 "cells": [
  {
   "cell_type": "code",
   "execution_count": null,
   "metadata": {},
   "outputs": [],
   "source": [
    "import tensorflow as tf\n",
    "from tensorflow.keras import layers\n",
    "from PIL import Image\n"
   ]
  },
  {
   "cell_type": "code",
   "execution_count": null,
   "metadata": {},
   "outputs": [],
   "source": [
    "img=Image.open(\"./cifar10/test/airplane/1001_airplane.png\")\n",
    "img"
   ]
  },
  {
   "cell_type": "code",
   "execution_count": null,
   "metadata": {},
   "outputs": [],
   "source": [
    "img.size"
   ]
  },
  {
   "cell_type": "code",
   "execution_count": null,
   "metadata": {},
   "outputs": [],
   "source": [
    "data=tf.keras.utils.image_dataset_from_directory(\n",
    "    \"./cifar10/train/\",\n",
    "    image_size=(32,32),\n",
    "    color_mode=\"rgb\",\n",
    "    batch_size=50000\n",
    ")\n",
    "data"
   ]
  },
  {
   "cell_type": "code",
   "execution_count": null,
   "metadata": {},
   "outputs": [],
   "source": [
    "model=tf.keras.Sequential([\n",
    "    layers.Conv2D(9,3,padding=\"same\",input_shape=(32,32,3)),\n",
    "    layers.MaxPool2D(),\n",
    "    layers.Conv2D(18,3,padding=\"same\"),\n",
    "    layers.MaxPool2D(),\n",
    "    layers.Conv2D(36,3),\n",
    "    layers.MaxPool2D(),\n",
    "    layers.Flatten(),\n",
    "    layers.Dense(64,activation=\"relu\"),\n",
    "    layers.Dense(10),\n",
    "    layers.Softmax()\n",
    "    \n",
    "])"
   ]
  },
  {
   "cell_type": "code",
   "execution_count": null,
   "metadata": {},
   "outputs": [],
   "source": [
    "#model.build(input_shape=(1,32,32,3))\n",
    "model.summary()"
   ]
  },
  {
   "cell_type": "code",
   "execution_count": null,
   "metadata": {},
   "outputs": [],
   "source": [
    "model.compile(\n",
    "    loss=tf.keras.losses.categorical_crossentropy,\n",
    "    optimizer=tf.keras.optimizers.Adam(0.001),\n",
    "    metrics=[\"accuracy\"]\n",
    ")"
   ]
  },
  {
   "cell_type": "code",
   "execution_count": 8,
   "metadata": {},
   "outputs": [
    {
     "name": "stdout",
     "output_type": "stream",
     "text": [
      " 159/1000 [===>..........................] - ETA: 2:16 - loss: 0.7979 - accuracy: 0.7176"
     ]
    }
   ],
   "source": [
    "for features,labels in data:\n",
    "    features=tf.divide(features,255)\n",
    "    labels=tf.one_hot(labels,10)\n",
    "    print(features.shape,labels.shape)\n",
    "    record=model.fit(features,labels,batch_size=50,epochs=10)"
   ]
  }
 ],
 "metadata": {
  "kernelspec": {
   "display_name": "Python 3",
   "language": "python",
   "name": "python3"
  },
  "language_info": {
   "codemirror_mode": {
    "name": "ipython",
    "version": 3
   },
   "file_extension": ".py",
   "mimetype": "text/x-python",
   "name": "python",
   "nbconvert_exporter": "python",
   "pygments_lexer": "ipython3",
   "version": "3.10.9 (tags/v3.10.9:1dd9be6, Dec  6 2022, 20:01:21) [MSC v.1934 64 bit (AMD64)]"
  },
  "orig_nbformat": 4,
  "vscode": {
   "interpreter": {
    "hash": "576c6cfde67e2f31141946d7520ee5331cbb24525b41fa63a2431fd83fd426f6"
   }
  }
 },
 "nbformat": 4,
 "nbformat_minor": 2
}
